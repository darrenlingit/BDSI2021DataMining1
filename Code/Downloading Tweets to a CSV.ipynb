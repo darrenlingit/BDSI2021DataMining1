{
 "cells": [
  {
   "cell_type": "markdown",
   "id": "0e5905b4",
   "metadata": {},
   "source": [
    "Code for extracting tweets from the twitter API, mostly taken from Grace's code"
   ]
  },
  {
   "cell_type": "code",
   "execution_count": null,
   "id": "c6d0a2ed",
   "metadata": {},
   "outputs": [],
   "source": [
    "#import necessary packages\n",
    "import csv\n",
    "import tweepy"
   ]
  },
  {
   "cell_type": "code",
   "execution_count": null,
   "id": "6d6efb87",
   "metadata": {},
   "outputs": [],
   "source": [
    "# add the access codes from your account\n",
    "access_key=''\n",
    "access_secret=''\n",
    "consumer_key=''\n",
    "consumer_secret=''\n",
    "\n",
    "auth = tweepy.OAuthHandler(consumer_key, consumer_secret)\n",
    "auth.set_access_token(access_key, access_secret)\n",
    "api = tweepy.API(auth, wait_on_rate_limit=True)\n",
    "\n",
    "csvFile = open('vaccine_college_500_2.csv', 'a') # create & title your csv file\n",
    "csvWriter = csv.writer(csvFile)\n",
    "column_headers=['date', 'text', 'retweet_count', 'favorite_count', 'reply']\n",
    "\n",
    "search_words='vaccine_college' #put in your preferred keywords\n",
    "new_search = search_words + \" -filter:retweets\" #filter out retweets"
   ]
  },
  {
   "cell_type": "code",
   "execution_count": null,
   "id": "5ab8ef33",
   "metadata": {},
   "outputs": [],
   "source": [
    "csvWriter.writerow(column_headers)\n",
    "for tweet in tweepy.Cursor(api.search, q=new_search, count=500,\n",
    "                        lang='en',\n",
    "                        since_id=0, \n",
    "                        tweet_mode='extended').items():\n",
    "    csvWriter.writerow([tweet.created_at,\n",
    "                        tweet.full_text.encode('ascii', 'ignore'),\n",
    "                        tweet.retweet_count,\n",
    "                        tweet.favorite_count,\n",
    "                        1 if tweet.in_reply_to_status_id\n",
    "                        else 0])"
   ]
  }
 ],
 "metadata": {
  "kernelspec": {
   "display_name": "Python 3",
   "language": "python",
   "name": "python3"
  },
  "language_info": {
   "codemirror_mode": {
    "name": "ipython",
    "version": 3
   },
   "file_extension": ".py",
   "mimetype": "text/x-python",
   "name": "python",
   "nbconvert_exporter": "python",
   "pygments_lexer": "ipython3",
   "version": "3.8.8"
  }
 },
 "nbformat": 4,
 "nbformat_minor": 5
}
