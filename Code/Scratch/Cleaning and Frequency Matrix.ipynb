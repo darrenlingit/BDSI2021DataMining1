{
 "cells": [
  {
   "cell_type": "code",
   "execution_count": 1,
   "metadata": {},
   "outputs": [],
   "source": [
    "# packages\n",
    "import pandas as pd\n",
    "\n",
    "import numpy as np\n",
    "np.random.seed(2021)\n",
    "\n",
    "import gensim\n",
    "from gensim.utils import simple_preprocess\n",
    "from gensim.parsing.preprocessing import STOPWORDS\n",
    "\n",
    "import nltk\n",
    "from nltk.stem import WordNetLemmatizer, SnowballStemmer\n",
    "from nltk.stem.porter import *\n",
    "#nltk.download('wordnet') #download if not present already\n",
    "\n",
    "from sklearn.feature_extraction.text import CountVectorizer\n",
    "from sklearn.ensemble import RandomForestClassifier\n",
    "from sklearn import neighbors\n",
    "from sklearn import datasets\n",
    "from sklearn.model_selection import KFold\n",
    "from sklearn.model_selection import cross_val_score\n"
   ]
  },
  {
   "cell_type": "code",
   "execution_count": 2,
   "metadata": {},
   "outputs": [],
   "source": [
    "# cleaning functions\n",
    "\n",
    "def cleaning(text): # to remove mentions and links, taken partially from juejue's and jamie's notebooks\n",
    "    text = text.replace(\"\\\\n\", \" \") # dropping \\n\n",
    "    text = re.sub(r'[^\\w\\s]', ' ', text) # remove punctuation\n",
    "    text = re.sub('\\S*@\\S*\\s?', '',text) # remove emails\n",
    "    text = re.sub('((www\\.[^\\s]+)|(https?://[^\\s]+))',' ', text) # remove links\n",
    "    text = re.sub(\"([^0-9A-Za-z \\t])|(\\w+:\\/\\/\\S+)\", '', text) # also removes links?\n",
    "    text = re.sub(r'\\d+', '', text) # remove numbers\n",
    "    \n",
    "    return text\n",
    "\n",
    "\n",
    "def clean_stem(tweets, rawtweets = True): # cleaning and stemming\n",
    "    \n",
    "    if rawtweets == True:\n",
    "        # raw tweets pulled straight from Twitter\n",
    "        # clears the 'b and the ' at the start and end of the tweet\n",
    "        tweets = tweets.str[2:] # dropping first two characters apostrophe and b\n",
    "        tweets = tweets.str[:-1] # dropping last character apostrophe\n",
    "    \n",
    "    # removing punctuation, \\\\n, links, etc.\n",
    "    tweets = tweets.apply(cleaning)\n",
    "    \n",
    "    # stemming the words\n",
    "    stemmer = SnowballStemmer(\"english\")\n",
    "    text = tweets.to_list()\n",
    "    process_tweets = []\n",
    "    for sentence in text:\n",
    "        # iterate through each word in a tweet/sentence, if not part of stopwords list then keep in tweet\n",
    "        process_tweets.append(\" \".join([stemmer.stem(i) for i in sentence.split() if i not in gensim.parsing.preprocessing.STOPWORDS]))\n",
    "    \n",
    "    #return list of cleaned tweets\n",
    "    return process_tweets\n",
    "   "
   ]
  },
  {
   "cell_type": "code",
   "execution_count": 3,
   "metadata": {},
   "outputs": [],
   "source": [
    "# other functions\n",
    "vectorizer = CountVectorizer(min_df=2) # min_df is minimum document frequency to include token/word"
   ]
  },
  {
   "cell_type": "code",
   "execution_count": 4,
   "metadata": {},
   "outputs": [],
   "source": [
    "tweets = pd.read_csv(\"../Data/vaccine_college_500.csv\")\n",
    "tweets = tweets.drop_duplicates(subset=[\"text\"], keep='first') # remove duplicate tweets\n",
    "tweets = tweets[~tweets[\"text\"].str.contains(\"Pin Code\")] # remove tweets that have \"Pin Code\"\n",
    "\n",
    "# cleaning\n",
    "text = clean_stem(tweets[\"text\"], rawtweets = True)"
   ]
  },
  {
   "cell_type": "code",
   "execution_count": 5,
   "metadata": {},
   "outputs": [],
   "source": [
    "freq_matrix = vectorizer.fit_transform(text).toarray()"
   ]
  }
 ],
 "metadata": {
  "kernelspec": {
   "display_name": "Python 3",
   "language": "python",
   "name": "python3"
  },
  "language_info": {
   "codemirror_mode": {
    "name": "ipython",
    "version": 3
   },
   "file_extension": ".py",
   "mimetype": "text/x-python",
   "name": "python",
   "nbconvert_exporter": "python",
   "pygments_lexer": "ipython3",
   "version": "3.8.5"
  }
 },
 "nbformat": 4,
 "nbformat_minor": 4
}
