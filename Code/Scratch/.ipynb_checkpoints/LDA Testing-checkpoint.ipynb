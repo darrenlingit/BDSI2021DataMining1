{
 "cells": [
  {
   "cell_type": "code",
   "execution_count": 2,
   "metadata": {},
   "outputs": [
    {
     "name": "stderr",
     "output_type": "stream",
     "text": [
      "[nltk_data] Downloading package wordnet to\n",
      "[nltk_data]     C:\\Users\\linda\\AppData\\Roaming\\nltk_data...\n",
      "[nltk_data]   Package wordnet is already up-to-date!\n"
     ]
    },
    {
     "data": {
      "text/plain": [
       "True"
      ]
     },
     "execution_count": 2,
     "metadata": {},
     "output_type": "execute_result"
    }
   ],
   "source": [
    "#importing packages\n",
    "\n",
    "import pandas as pd\n",
    "import gensim\n",
    "from gensim.utils import simple_preprocess\n",
    "from gensim.parsing.preprocessing import STOPWORDS\n",
    "from nltk.stem import WordNetLemmatizer, SnowballStemmer\n",
    "from nltk.stem.porter import *\n",
    "import numpy as np\n",
    "np.random.seed(2018)\n",
    "import nltk\n",
    "nltk.download('wordnet')"
   ]
  },
  {
   "cell_type": "code",
   "execution_count": 7,
   "metadata": {},
   "outputs": [
    {
     "data": {
      "text/html": [
       "<div>\n",
       "<style scoped>\n",
       "    .dataframe tbody tr th:only-of-type {\n",
       "        vertical-align: middle;\n",
       "    }\n",
       "\n",
       "    .dataframe tbody tr th {\n",
       "        vertical-align: top;\n",
       "    }\n",
       "\n",
       "    .dataframe thead th {\n",
       "        text-align: right;\n",
       "    }\n",
       "</style>\n",
       "<table border=\"1\" class=\"dataframe\">\n",
       "  <thead>\n",
       "    <tr style=\"text-align: right;\">\n",
       "      <th></th>\n",
       "      <th>date</th>\n",
       "      <th>text</th>\n",
       "      <th>retweet_count</th>\n",
       "      <th>favorite_count</th>\n",
       "      <th>reply</th>\n",
       "    </tr>\n",
       "  </thead>\n",
       "  <tbody>\n",
       "    <tr>\n",
       "      <th>0</th>\n",
       "      <td>2021-06-23 23:23:46</td>\n",
       "      <td>b'Pin Code:[411041] \\nNavale Medical College\\n...</td>\n",
       "      <td>0</td>\n",
       "      <td>0</td>\n",
       "      <td>0</td>\n",
       "    </tr>\n",
       "    <tr>\n",
       "      <th>1</th>\n",
       "      <td>2021-06-23 23:16:54</td>\n",
       "      <td>b'@RobSchneider If a college forces the vaccin...</td>\n",
       "      <td>0</td>\n",
       "      <td>0</td>\n",
       "      <td>1</td>\n",
       "    </tr>\n",
       "    <tr>\n",
       "      <th>2</th>\n",
       "      <td>2021-06-23 23:14:58</td>\n",
       "      <td>b'@senatenj My Deans List Sophomore unwelcome ...</td>\n",
       "      <td>0</td>\n",
       "      <td>0</td>\n",
       "      <td>0</td>\n",
       "    </tr>\n",
       "    <tr>\n",
       "      <th>3</th>\n",
       "      <td>2021-06-23 23:12:56</td>\n",
       "      <td>b'@NYGovCuomo are you paying out if your perso...</td>\n",
       "      <td>0</td>\n",
       "      <td>0</td>\n",
       "      <td>0</td>\n",
       "    </tr>\n",
       "    <tr>\n",
       "      <th>4</th>\n",
       "      <td>2021-06-23 23:09:29</td>\n",
       "      <td>b'@tedcruz please help my daughter in #NJ (@Go...</td>\n",
       "      <td>0</td>\n",
       "      <td>0</td>\n",
       "      <td>0</td>\n",
       "    </tr>\n",
       "    <tr>\n",
       "      <th>...</th>\n",
       "      <td>...</td>\n",
       "      <td>...</td>\n",
       "      <td>...</td>\n",
       "      <td>...</td>\n",
       "      <td>...</td>\n",
       "    </tr>\n",
       "    <tr>\n",
       "      <th>2855</th>\n",
       "      <td>2021-06-15 14:32:05</td>\n",
       "      <td>b'Medgar Evers College\\nUniversity at Buffalo ...</td>\n",
       "      <td>0</td>\n",
       "      <td>0</td>\n",
       "      <td>1</td>\n",
       "    </tr>\n",
       "    <tr>\n",
       "      <th>2856</th>\n",
       "      <td>2021-06-15 14:30:01</td>\n",
       "      <td>b'Ellie Ok, a second-year student in the Colle...</td>\n",
       "      <td>0</td>\n",
       "      <td>2</td>\n",
       "      <td>0</td>\n",
       "    </tr>\n",
       "    <tr>\n",
       "      <th>2857</th>\n",
       "      <td>2021-06-15 14:23:20</td>\n",
       "      <td>b'@unmtaos has joined the \\n@WhiteHouse #COVID...</td>\n",
       "      <td>0</td>\n",
       "      <td>0</td>\n",
       "      <td>0</td>\n",
       "    </tr>\n",
       "    <tr>\n",
       "      <th>2858</th>\n",
       "      <td>2021-06-15 14:16:33</td>\n",
       "      <td>b'Medgar Evers College\\nUniversity at Buffalo ...</td>\n",
       "      <td>0</td>\n",
       "      <td>0</td>\n",
       "      <td>1</td>\n",
       "    </tr>\n",
       "    <tr>\n",
       "      <th>2859</th>\n",
       "      <td>2021-06-15 14:13:49</td>\n",
       "      <td>b'SFC joins colleges across the country by sig...</td>\n",
       "      <td>1</td>\n",
       "      <td>4</td>\n",
       "      <td>0</td>\n",
       "    </tr>\n",
       "  </tbody>\n",
       "</table>\n",
       "<p>2860 rows × 5 columns</p>\n",
       "</div>"
      ],
      "text/plain": [
       "                     date                                               text  \\\n",
       "0     2021-06-23 23:23:46  b'Pin Code:[411041] \\nNavale Medical College\\n...   \n",
       "1     2021-06-23 23:16:54  b'@RobSchneider If a college forces the vaccin...   \n",
       "2     2021-06-23 23:14:58  b'@senatenj My Deans List Sophomore unwelcome ...   \n",
       "3     2021-06-23 23:12:56  b'@NYGovCuomo are you paying out if your perso...   \n",
       "4     2021-06-23 23:09:29  b'@tedcruz please help my daughter in #NJ (@Go...   \n",
       "...                   ...                                                ...   \n",
       "2855  2021-06-15 14:32:05  b'Medgar Evers College\\nUniversity at Buffalo ...   \n",
       "2856  2021-06-15 14:30:01  b'Ellie Ok, a second-year student in the Colle...   \n",
       "2857  2021-06-15 14:23:20  b'@unmtaos has joined the \\n@WhiteHouse #COVID...   \n",
       "2858  2021-06-15 14:16:33  b'Medgar Evers College\\nUniversity at Buffalo ...   \n",
       "2859  2021-06-15 14:13:49  b'SFC joins colleges across the country by sig...   \n",
       "\n",
       "      retweet_count  favorite_count  reply  \n",
       "0                 0               0      0  \n",
       "1                 0               0      1  \n",
       "2                 0               0      0  \n",
       "3                 0               0      0  \n",
       "4                 0               0      0  \n",
       "...             ...             ...    ...  \n",
       "2855              0               0      1  \n",
       "2856              0               2      0  \n",
       "2857              0               0      0  \n",
       "2858              0               0      1  \n",
       "2859              1               4      0  \n",
       "\n",
       "[2860 rows x 5 columns]"
      ]
     },
     "execution_count": 7,
     "metadata": {},
     "output_type": "execute_result"
    }
   ],
   "source": [
    "#reading in data\n",
    "v_college = pd.read_csv(\"../../Data/vaccine_college_500.csv\")\n",
    "v_college"
   ]
  },
  {
   "cell_type": "code",
   "execution_count": 8,
   "metadata": {},
   "outputs": [],
   "source": [
    "#cleaning\n",
    "v_college[\"clean tweets\"] = v_college[\"text\"].str[2:] #dropping first two characters apostrophe and b\n",
    "v_college[\"clean tweets\"] = v_college[\"clean tweets\"].str[:-1] #dropping last character apostrophe\n",
    "tweets = v_college[\"clean tweets\"]"
   ]
  },
  {
   "cell_type": "code",
   "execution_count": 9,
   "metadata": {},
   "outputs": [],
   "source": [
    "tweets = [s.replace(\"\\\\n\", \" \") for s in tweets] #dropping \\n\n",
    "tweets = [s.replace(\",\", \"\") for s in tweets] #dropping ,\n",
    "v_college[\"clean tweets\"] = tweets"
   ]
  },
  {
   "cell_type": "code",
   "execution_count": 10,
   "metadata": {},
   "outputs": [],
   "source": [
    "def cleaning(text): #to remove mentions and links, taken partially from juejue's and Jamie's notebooks\n",
    "    text = re.sub('\\S*@\\S*\\s?', '',text) #remove emails\n",
    "    text = re.sub('((www\\.[^\\s]+)|(https?://[^\\s]+))',' ', text) #remove links\n",
    "    text = re.sub(\"([^0-9A-Za-z \\t])|(\\w+:\\/\\/\\S+)\", '', text) #also removing links + punctuation\n",
    "    return text\n",
    "\n",
    "v_college[\"clean tweets\"] = v_college[\"clean tweets\"].apply(cleaning)"
   ]
  },
  {
   "cell_type": "code",
   "execution_count": 11,
   "metadata": {},
   "outputs": [],
   "source": [
    "#stemming words\n",
    "stemmer = SnowballStemmer(\"english\")\n",
    "text = v_college[\"clean tweets\"].to_list()\n",
    "process_tweets = []\n",
    "for sentence in text:\n",
    "    #iterate through each word in a tweet/sentence, if not part of stopwords list then keep in tweet\n",
    "    process_tweets.append(\" \".join([stemmer.stem(i) for i in sentence.split() if i not in gensim.parsing.preprocessing.STOPWORDS]))\n",
    "\n",
    "\n",
    "#get our tokens/words  \n",
    "tokens = [[word for word in process_tweets.split()] for process_tweets in process_tweets]\n",
    "v_college[\"clean tweets\"] = tokens"
   ]
  },
  {
   "cell_type": "code",
   "execution_count": 12,
   "metadata": {},
   "outputs": [
    {
     "data": {
      "text/plain": [
       "0       [pin, code411041, naval, medic, colleg, vaccin...\n",
       "1       [if, colleg, forc, vaccin, su, exist, wreck, f...\n",
       "2       [my, dean, list, sophomor, unwelcom, colleg, w...\n",
       "3       [pay, person, pocket, colleg, scholarship, gav...\n",
       "4       [help, daughter, nj, return, colleg, shes, dec...\n",
       "                              ...                        \n",
       "2855    [medgar, ever, colleg, univers, buffalo, south...\n",
       "2856    [elli, ok, secondyear, student, colleg, osteop...\n",
       "2857    [join, covidcollegechalleng, a, vaccin, champi...\n",
       "2858    [medgar, ever, colleg, univers, buffalo, south...\n",
       "2859    [sfc, join, colleg, countri, sign, the, covid1...\n",
       "Name: clean tweets, Length: 2860, dtype: object"
      ]
     },
     "execution_count": 12,
     "metadata": {},
     "output_type": "execute_result"
    }
   ],
   "source": [
    "#quick look at final dataframe\n",
    "v_college[\"clean tweets\"]"
   ]
  },
  {
   "cell_type": "code",
   "execution_count": null,
   "metadata": {},
   "outputs": [],
   "source": [
    "#gensim dictionary and corpus\n",
    "\n",
    "#creating dictionary\n",
    "tweet_dict = gensim.corpora.Dictionary(tokens)\n",
    "\n",
    "#bag of words corpus\n",
    "bow_corpus = [tweet_dict.doc2bow(text) for text in tokens]"
   ]
  },
  {
   "cell_type": "code",
   "execution_count": null,
   "metadata": {},
   "outputs": [],
   "source": [
    "#implementing LDA model\n",
    "# number of topics\n",
    "topic_number = 5\n",
    "\n",
    "# Build LDA model\n",
    "lda_model = gensim.models.LdaMulticore(corpus=bow_corpus,\n",
    "                                       id2word=tweet_dict,\n",
    "                                       num_topics=topic_number)\n",
    "lda_model.print_topics(num_words=20) #giving the combination of words for each topic"
   ]
  },
  {
   "cell_type": "code",
   "execution_count": null,
   "metadata": {},
   "outputs": [],
   "source": [
    "`\n",
    "import numpy as np\n",
    "from scipy.sparse import coo_matrix\n",
    "from coclust.coclustering import CoclustSpecMod\n",
    "from coclust.visualization import plot_cluster_sizes\n",
    "n_clust = 4\n",
    "file_name = \"data/dtm_college.csv\"\n",
    "\n",
    "\n",
    "a = np.loadtxt(file_name, delimiter = ',')#, skiprows = 1)\n",
    "X = (coo_matrix((a[:, 2], (a[:, 0].astype(int), a[:, 1].astype(int)))))\n",
    "X = X.tocsr()\n",
    "\n",
    "model = CoclustSpecMod(n_clusters = n_clust, random_state = 0)\n",
    "model.fit(X)\n",
    "plot_cluster_sizes(model)\n"
   ]
  },
  {
   "cell_type": "code",
   "execution_count": null,
   "metadata": {},
   "outputs": [],
   "source": [
    "import numpy as np\n",
    "from scipy.sparse import coo_matrix\n",
    "from coclust.coclustering import CoclustSpecMod\n",
    "from coclust.visualization import plot_cluster_sizes\n",
    "dtm = pd.read_csv(\"data/dtm_college.csv\")\n",
    "#coo_matrix((a[:, 2], (a[:, 0].astype(int), a[:, 1].astype(int)))) copied from the paper"
   ]
  },
  {
   "cell_type": "code",
   "execution_count": null,
   "metadata": {},
   "outputs": [],
   "source": [
    "import scipy\n",
    "dtm = pd.read_csv(\"data/dtm_college.csv\")\n",
    "csrtest = scipy.sparse.csr_matrix(dtm.values)\n",
    "model = CoclustSpecMod(n_clusters = 5, random_state = 0)\n",
    "model.fit(csrtest)"
   ]
  }
 ],
 "metadata": {
  "kernelspec": {
   "display_name": "Python 3",
   "language": "python",
   "name": "python3"
  },
  "language_info": {
   "codemirror_mode": {
    "name": "ipython",
    "version": 3
   },
   "file_extension": ".py",
   "mimetype": "text/x-python",
   "name": "python",
   "nbconvert_exporter": "python",
   "pygments_lexer": "ipython3",
   "version": "3.8.5"
  }
 },
 "nbformat": 4,
 "nbformat_minor": 4
}
