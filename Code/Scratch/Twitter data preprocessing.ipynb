{
 "cells": [
  {
   "cell_type": "code",
   "execution_count": 34,
   "metadata": {},
   "outputs": [],
   "source": [
    "import pandas as pd\n",
    "import numpy as np\n",
    "import re"
   ]
  },
  {
   "cell_type": "code",
   "execution_count": 52,
   "metadata": {},
   "outputs": [
    {
     "data": {
      "text/plain": [
       "(2860, 5)"
      ]
     },
     "execution_count": 52,
     "metadata": {},
     "output_type": "execute_result"
    }
   ],
   "source": [
    "#Reading in data\n",
    "\n",
    "vaccine_passport = pd.read_csv('./Twitter data/vaccine_passport_500.csv')\n",
    "#vaccine_college = pd.read_csv('./Twitter data/vaccine_college_500.csv')\n",
    "vaccine_passport.shape\n",
    "#vaccine_college.shape"
   ]
  },
  {
   "cell_type": "code",
   "execution_count": null,
   "metadata": {},
   "outputs": [],
   "source": []
  },
  {
   "cell_type": "code",
   "execution_count": 3,
   "metadata": {},
   "outputs": [
    {
     "data": {
      "text/plain": [
       "(6098, 5)"
      ]
     },
     "execution_count": 3,
     "metadata": {},
     "output_type": "execute_result"
    }
   ],
   "source": [
    "vaccine_passport.shape"
   ]
  },
  {
   "cell_type": "code",
   "execution_count": 4,
   "metadata": {
    "scrolled": true
   },
   "outputs": [
    {
     "data": {
      "text/plain": [
       "date              object\n",
       "text              object\n",
       "retweet_count      int64\n",
       "favorite_count     int64\n",
       "reply              int64\n",
       "dtype: object"
      ]
     },
     "execution_count": 4,
     "metadata": {},
     "output_type": "execute_result"
    }
   ],
   "source": [
    "vaccine_passport.dtypes"
   ]
  },
  {
   "cell_type": "code",
   "execution_count": 5,
   "metadata": {},
   "outputs": [
    {
     "data": {
      "text/plain": [
       "0         b'@BillKristol But no vaccine passport,  idiot'\n",
       "1       b'@SteveDeaceShow Well when this becomes widel...\n",
       "2       b\"@KayTeesTweeting @JaneCaro I'm happy to be v...\n",
       "3       b\"The MolinaCares Accord, in collaboration wit...\n",
       "4       b'The MolinaCares Accord, in collaboration wit...\n",
       "                              ...                        \n",
       "6093    b'@Outcome42 @BlueStarUnicorn At least he has ...\n",
       "6094    b'@traceitback @Victoria59L @Freedom77015202 R...\n",
       "6095    b'@DrewLawDesign Im more embarrassed by the am...\n",
       "6096    b'Govt paranoia on borders easy to understand ...\n",
       "6097    b\"@traceyfutures Best laugh @traceyfutures is ...\n",
       "Name: text, Length: 6098, dtype: object"
      ]
     },
     "execution_count": 5,
     "metadata": {},
     "output_type": "execute_result"
    }
   ],
   "source": [
    "vaccine_passport['text'].astype('str')"
   ]
  },
  {
   "cell_type": "code",
   "execution_count": 6,
   "metadata": {},
   "outputs": [
    {
     "data": {
      "text/html": [
       "<div>\n",
       "<style scoped>\n",
       "    .dataframe tbody tr th:only-of-type {\n",
       "        vertical-align: middle;\n",
       "    }\n",
       "\n",
       "    .dataframe tbody tr th {\n",
       "        vertical-align: top;\n",
       "    }\n",
       "\n",
       "    .dataframe thead th {\n",
       "        text-align: right;\n",
       "    }\n",
       "</style>\n",
       "<table border=\"1\" class=\"dataframe\">\n",
       "  <thead>\n",
       "    <tr style=\"text-align: right;\">\n",
       "      <th></th>\n",
       "      <th>date</th>\n",
       "      <th>text</th>\n",
       "      <th>retweet_count</th>\n",
       "      <th>favorite_count</th>\n",
       "      <th>reply</th>\n",
       "      <th>cleaned_text</th>\n",
       "    </tr>\n",
       "  </thead>\n",
       "  <tbody>\n",
       "    <tr>\n",
       "      <th>0</th>\n",
       "      <td>2021-06-23 22:38:33</td>\n",
       "      <td>b'@BillKristol But no vaccine passport,  idiot'</td>\n",
       "      <td>0</td>\n",
       "      <td>0</td>\n",
       "      <td>1</td>\n",
       "      <td>b'@billkristol but no vaccine passport,  idiot'</td>\n",
       "    </tr>\n",
       "    <tr>\n",
       "      <th>1</th>\n",
       "      <td>2021-06-23 22:35:56</td>\n",
       "      <td>b'@SteveDeaceShow Well when this becomes widel...</td>\n",
       "      <td>0</td>\n",
       "      <td>0</td>\n",
       "      <td>0</td>\n",
       "      <td>b'@stevedeaceshow well when this becomes widel...</td>\n",
       "    </tr>\n",
       "    <tr>\n",
       "      <th>2</th>\n",
       "      <td>2021-06-23 22:35:24</td>\n",
       "      <td>b\"@KayTeesTweeting @JaneCaro I'm happy to be v...</td>\n",
       "      <td>0</td>\n",
       "      <td>1</td>\n",
       "      <td>1</td>\n",
       "      <td>b\"@kayteestweeting @janecaro i'm happy to be v...</td>\n",
       "    </tr>\n",
       "    <tr>\n",
       "      <th>3</th>\n",
       "      <td>2021-06-23 22:30:14</td>\n",
       "      <td>b\"The MolinaCares Accord, in collaboration wit...</td>\n",
       "      <td>0</td>\n",
       "      <td>0</td>\n",
       "      <td>0</td>\n",
       "      <td>b\"the molinacares accord, in collaboration wit...</td>\n",
       "    </tr>\n",
       "    <tr>\n",
       "      <th>4</th>\n",
       "      <td>2021-06-23 22:30:14</td>\n",
       "      <td>b'The MolinaCares Accord, in collaboration wit...</td>\n",
       "      <td>0</td>\n",
       "      <td>0</td>\n",
       "      <td>0</td>\n",
       "      <td>b'the molinacares accord, in collaboration wit...</td>\n",
       "    </tr>\n",
       "  </tbody>\n",
       "</table>\n",
       "</div>"
      ],
      "text/plain": [
       "                  date                                               text  \\\n",
       "0  2021-06-23 22:38:33    b'@BillKristol But no vaccine passport,  idiot'   \n",
       "1  2021-06-23 22:35:56  b'@SteveDeaceShow Well when this becomes widel...   \n",
       "2  2021-06-23 22:35:24  b\"@KayTeesTweeting @JaneCaro I'm happy to be v...   \n",
       "3  2021-06-23 22:30:14  b\"The MolinaCares Accord, in collaboration wit...   \n",
       "4  2021-06-23 22:30:14  b'The MolinaCares Accord, in collaboration wit...   \n",
       "\n",
       "   retweet_count  favorite_count  reply  \\\n",
       "0              0               0      1   \n",
       "1              0               0      0   \n",
       "2              0               1      1   \n",
       "3              0               0      0   \n",
       "4              0               0      0   \n",
       "\n",
       "                                        cleaned_text  \n",
       "0    b'@billkristol but no vaccine passport,  idiot'  \n",
       "1  b'@stevedeaceshow well when this becomes widel...  \n",
       "2  b\"@kayteestweeting @janecaro i'm happy to be v...  \n",
       "3  b\"the molinacares accord, in collaboration wit...  \n",
       "4  b'the molinacares accord, in collaboration wit...  "
      ]
     },
     "execution_count": 6,
     "metadata": {},
     "output_type": "execute_result"
    }
   ],
   "source": [
    "#Making it lowercase\n",
    "\n",
    "vaccine_passport['cleaned_text'] = vaccine_passport['text'].str.lower()\n",
    "vaccine_passport.head()"
   ]
  },
  {
   "cell_type": "code",
   "execution_count": 7,
   "metadata": {},
   "outputs": [
    {
     "name": "stdout",
     "output_type": "stream",
     "text": [
      "apple\n"
     ]
    }
   ],
   "source": [
    "string='ApPle'\n",
    "string = string.lower()\n",
    "print(string)"
   ]
  },
  {
   "cell_type": "code",
   "execution_count": 19,
   "metadata": {},
   "outputs": [
    {
     "data": {
      "text/plain": [
       "0         b'@BillKristol But no vaccine passport,  idiot'\n",
       "1       b'@SteveDeaceShow Well when this becomes widel...\n",
       "2       b\"@KayTeesTweeting @JaneCaro I'm happy to be v...\n",
       "3       b\"The MolinaCares Accord, in collaboration wit...\n",
       "4       b'The MolinaCares Accord, in collaboration wit...\n",
       "                              ...                        \n",
       "6093    b'@Outcome42 @BlueStarUnicorn At least he has ...\n",
       "6094    b'@traceitback @Victoria59L @Freedom77015202 R...\n",
       "6095    b'@DrewLawDesign Im more embarrassed by the am...\n",
       "6096    b'Govt paranoia on borders easy to understand ...\n",
       "6097    b\"@traceyfutures Best laugh @traceyfutures is ...\n",
       "Name: text, Length: 6098, dtype: object"
      ]
     },
     "execution_count": 19,
     "metadata": {},
     "output_type": "execute_result"
    }
   ],
   "source": [
    "vaccine_passport['text']"
   ]
  },
  {
   "cell_type": "code",
   "execution_count": 31,
   "metadata": {},
   "outputs": [
    {
     "data": {
      "text/plain": [
       "[\"b'@BillKristol But no vaccine passport,  idiot'\",\n",
       " \"b'@SteveDeaceShow Well when this becomes widely known &amp; it will Desantis just killed any chance at the white house.  \\\\nhttps://t.co/bSUJogKBUv'\",\n",
       " 'b\"@KayTeesTweeting @JaneCaro I\\'m happy to be vaccinated, happy to carry a \\'vaccine passport,\\' be tested on arrival and departure. I want our government to be on the front foot - coherent, consistent, optimistic, careful, prepared, compassionate &amp; brave.\"',\n",
       " 'b\"The MolinaCares Accord, in collaboration with Passport Health Plan by Molina Healthcare, is offering a $100 gift card for members who have not yet received their COVID-19 vaccine! Check out Passport\\'s CEO and Plan President, Ryan Sadler, announce this special incentive. https://t.co/LqMCZkojxO\"',\n",
       " \"b'The MolinaCares Accord, in collaboration with Passport Health Plan by Molina Healthcare, is offering a $100 gift card for members who have not yet received their COVID-19 vaccine! https://t.co/dob5vxnJ9G'\"]"
      ]
     },
     "execution_count": 31,
     "metadata": {},
     "output_type": "execute_result"
    }
   ],
   "source": [
    "#Putting all tweets into a list\n",
    "\n",
    "tweets = vaccine_passport['text'].tolist()\n",
    "tweets[:5]"
   ]
  },
  {
   "cell_type": "code",
   "execution_count": 36,
   "metadata": {},
   "outputs": [
    {
     "data": {
      "text/plain": [
       "['bBillKristol But no vaccine passport idiot',\n",
       " 'bSteveDeaceShow Well when this becomes widely known amp it will Desantis just killed any chance at the white house',\n",
       " 'bKayTeesTweeting JaneCaro Im happy to be vaccinated happy to carry a vaccine passport be tested on arrival and departure I want our government to be on the front foot coherent consistent optimistic careful prepared compassionate amp brave',\n",
       " 'bThe MolinaCares Accord in collaboration with Passport Health Plan by Molina Healthcare is offering a 100 gift card for members who have not yet received their COVID19 vaccine Check out Passports CEO and Plan President Ryan Sadler announce this special incentive',\n",
       " 'bThe MolinaCares Accord in collaboration with Passport Health Plan by Molina Healthcare is offering a 100 gift card for members who have not yet received their COVID19 vaccine']"
      ]
     },
     "execution_count": 36,
     "metadata": {},
     "output_type": "execute_result"
    }
   ],
   "source": [
    "#Remove urls\n",
    "\n",
    "def remove_url(txt):\n",
    "    return \" \".join(re.sub(\"([^0-9A-Za-z \\t])|(\\w+:\\/\\/\\S+)\", \"\", txt).split())\n",
    "\n",
    "all_tweets_no_urls = [remove_url(tweet) for tweet in tweets]\n",
    "all_tweets_no_urls[:5]\n"
   ]
  },
  {
   "cell_type": "code",
   "execution_count": 41,
   "metadata": {},
   "outputs": [
    {
     "data": {
      "text/plain": [
       "['bbillkristol but no vaccine passport idiot',\n",
       " 'bstevedeaceshow well when this becomes widely known amp it will desantis just killed any chance at the white house',\n",
       " 'bkayteestweeting janecaro im happy to be vaccinated happy to carry a vaccine passport be tested on arrival and departure i want our government to be on the front foot coherent consistent optimistic careful prepared compassionate amp brave',\n",
       " 'bthe molinacares accord in collaboration with passport health plan by molina healthcare is offering a 100 gift card for members who have not yet received their covid19 vaccine check out passports ceo and plan president ryan sadler announce this special incentive',\n",
       " 'bthe molinacares accord in collaboration with passport health plan by molina healthcare is offering a 100 gift card for members who have not yet received their covid19 vaccine']"
      ]
     },
     "execution_count": 41,
     "metadata": {},
     "output_type": "execute_result"
    }
   ],
   "source": [
    "#Make lowercase\n",
    "\n",
    "all_tweets_no_urls_lower = [tweet.lower() for tweet in all_tweets_no_urls]\n",
    "all_tweets_no_urls_lower[:5]"
   ]
  },
  {
   "cell_type": "code",
   "execution_count": 42,
   "metadata": {},
   "outputs": [
    {
     "data": {
      "text/plain": [
       "['billkristol but no vaccine passport idiot',\n",
       " 'stevedeaceshow well when this becomes widely known amp it will desantis just killed any chance at the white house',\n",
       " 'kayteestweeting janecaro im happy to be vaccinated happy to carry a vaccine passport be tested on arrival and departure i want our government to be on the front foot coherent consistent optimistic careful prepared compassionate amp brave',\n",
       " 'the molinacares accord in collaboration with passport health plan by molina healthcare is offering a 100 gift card for members who have not yet received their covid19 vaccine check out passports ceo and plan president ryan sadler announce this special incentive',\n",
       " 'the molinacares accord in collaboration with passport health plan by molina healthcare is offering a 100 gift card for members who have not yet received their covid19 vaccine']"
      ]
     },
     "execution_count": 42,
     "metadata": {},
     "output_type": "execute_result"
    }
   ],
   "source": [
    "#Remove the b at the beginning of each tweet's text\n",
    "\n",
    "all_tweets_no_urls_lower = [tweet[1:] for tweet in all_tweets_no_urls_lower]\n",
    "all_tweets_no_urls_lower[:5]"
   ]
  },
  {
   "cell_type": "code",
   "execution_count": 43,
   "metadata": {},
   "outputs": [
    {
     "data": {
      "text/plain": [
       "['billkristol', 'but', 'no', 'vaccine', 'passport', 'idiot']"
      ]
     },
     "execution_count": 43,
     "metadata": {},
     "output_type": "execute_result"
    }
   ],
   "source": [
    "all_tweets_no_urls_lower[0].split()"
   ]
  },
  {
   "cell_type": "code",
   "execution_count": 47,
   "metadata": {},
   "outputs": [
    {
     "data": {
      "text/plain": [
       "[['billkristol', 'but', 'no', 'vaccine', 'passport', 'idiot'],\n",
       " ['stevedeaceshow',\n",
       "  'well',\n",
       "  'when',\n",
       "  'this',\n",
       "  'becomes',\n",
       "  'widely',\n",
       "  'known',\n",
       "  'amp',\n",
       "  'it',\n",
       "  'will',\n",
       "  'desantis',\n",
       "  'just',\n",
       "  'killed',\n",
       "  'any',\n",
       "  'chance',\n",
       "  'at',\n",
       "  'the',\n",
       "  'white',\n",
       "  'house']]"
      ]
     },
     "execution_count": 47,
     "metadata": {},
     "output_type": "execute_result"
    }
   ],
   "source": [
    "#Split each tweet into a list of its words\n",
    "\n",
    "words_in_tweet = [tweet.split() for tweet in all_tweets_no_urls_lower]\n",
    "words_in_tweet[:2]"
   ]
  },
  {
   "cell_type": "code",
   "execution_count": 59,
   "metadata": {},
   "outputs": [],
   "source": [
    "import itertools\n",
    "import collections"
   ]
  },
  {
   "cell_type": "code",
   "execution_count": 61,
   "metadata": {},
   "outputs": [
    {
     "data": {
      "text/plain": [
       "[('vaccine', 6439),\n",
       " ('the', 5738),\n",
       " ('passport', 5605),\n",
       " ('to', 5550),\n",
       " ('a', 4861),\n",
       " ('and', 2353),\n",
       " ('is', 2348),\n",
       " ('of', 2327),\n",
       " ('for', 2049),\n",
       " ('you', 1827),\n",
       " ('in', 1814),\n",
       " ('i', 1524),\n",
       " ('it', 1523),\n",
       " ('have', 1424),\n",
       " ('not', 1422)]"
      ]
     },
     "execution_count": 61,
     "metadata": {},
     "output_type": "execute_result"
    }
   ],
   "source": [
    "#count the frequency of each word in the collection of all the tweets\n",
    "\n",
    "all_words = list(itertools.chain(*words_in_tweet)) #put all words in all the tweets into a list\n",
    "#all_words[:8]\n",
    "counts_all_words = collections.Counter(all_words)\n",
    "counts_all_words.most_common(15)"
   ]
  },
  {
   "cell_type": "code",
   "execution_count": 62,
   "metadata": {},
   "outputs": [],
   "source": [
    "import nltk"
   ]
  },
  {
   "cell_type": "code",
   "execution_count": 68,
   "metadata": {},
   "outputs": [],
   "source": [
    "#nltk.download('stopwords')\n",
    "#stop_words = set(stopwords.words('english'))\n",
    "from nltk.corpus import stopwords"
   ]
  },
  {
   "cell_type": "code",
   "execution_count": 69,
   "metadata": {},
   "outputs": [
    {
     "data": {
      "text/plain": [
       "['both', 'who', 'didn', 'won', \"it's\", 'during', 'but', 'we', 'before', 'by']"
      ]
     },
     "execution_count": 69,
     "metadata": {},
     "output_type": "execute_result"
    }
   ],
   "source": [
    "stop_words = set(stopwords.words('english'))\n",
    "list(stop_words)[0:10]"
   ]
  },
  {
   "cell_type": "code",
   "execution_count": 74,
   "metadata": {},
   "outputs": [
    {
     "data": {
      "text/plain": [
       "[['billkristol', 'vaccine', 'passport', 'idiot'],\n",
       " ['stevedeaceshow',\n",
       "  'well',\n",
       "  'becomes',\n",
       "  'widely',\n",
       "  'known',\n",
       "  'amp',\n",
       "  'desantis',\n",
       "  'killed',\n",
       "  'chance',\n",
       "  'white',\n",
       "  'house'],\n",
       " ['kayteestweeting',\n",
       "  'janecaro',\n",
       "  'im',\n",
       "  'happy',\n",
       "  'vaccinated',\n",
       "  'happy',\n",
       "  'carry',\n",
       "  'vaccine',\n",
       "  'passport',\n",
       "  'tested',\n",
       "  'arrival',\n",
       "  'departure',\n",
       "  'want',\n",
       "  'government',\n",
       "  'front',\n",
       "  'foot',\n",
       "  'coherent',\n",
       "  'consistent',\n",
       "  'optimistic',\n",
       "  'careful',\n",
       "  'prepared',\n",
       "  'compassionate',\n",
       "  'amp',\n",
       "  'brave']]"
      ]
     },
     "execution_count": 74,
     "metadata": {},
     "output_type": "execute_result"
    }
   ],
   "source": [
    "#Remove stopwords from tweets\n",
    "\n",
    "tweets_nsw = [[word for word in tweet_words if not word in stop_words]\n",
    "              for tweet_words in words_in_tweet] # remove stopwords in tweet\n",
    "tweets_nsw[:3]"
   ]
  },
  {
   "cell_type": "code",
   "execution_count": 77,
   "metadata": {},
   "outputs": [
    {
     "data": {
      "text/plain": [
       "[('vaccine', 6439),\n",
       " ('passport', 5605),\n",
       " ('travel', 833),\n",
       " ('get', 788),\n",
       " ('covid', 614),\n",
       " ('people', 604),\n",
       " ('dont', 581),\n",
       " ('need', 520),\n",
       " ('vaccinated', 496),\n",
       " ('digital', 452),\n",
       " ('us', 409),\n",
       " ('want', 388),\n",
       " ('covid19', 378),\n",
       " ('passports', 378),\n",
       " ('id', 374)]"
      ]
     },
     "execution_count": 77,
     "metadata": {},
     "output_type": "execute_result"
    }
   ],
   "source": [
    "#Count frequency of words in all the tweets now that the stopwords have been removed\n",
    "\n",
    "all_words_nsw = list(itertools.chain(*tweets_nsw))\n",
    "counts_nsw = collections.Counter(all_words_nsw)\n",
    "counts_nsw.most_common(15)"
   ]
  },
  {
   "cell_type": "code",
   "execution_count": 80,
   "metadata": {
    "scrolled": true
   },
   "outputs": [
    {
     "ename": "ModuleNotFoundError",
     "evalue": "No module named 'shorttext'",
     "output_type": "error",
     "traceback": [
      "\u001b[1;31m---------------------------------------------------------------------------\u001b[0m",
      "\u001b[1;31mModuleNotFoundError\u001b[0m                       Traceback (most recent call last)",
      "\u001b[1;32m<ipython-input-80-a729a03e9863>\u001b[0m in \u001b[0;36m<module>\u001b[1;34m\u001b[0m\n\u001b[1;32m----> 1\u001b[1;33m \u001b[1;32mimport\u001b[0m \u001b[0mshorttext\u001b[0m\u001b[1;33m\u001b[0m\u001b[1;33m\u001b[0m\u001b[0m\n\u001b[0m",
      "\u001b[1;31mModuleNotFoundError\u001b[0m: No module named 'shorttext'"
     ]
    }
   ],
   "source": []
  }
 ],
 "metadata": {
  "kernelspec": {
   "display_name": "Python 3",
   "language": "python",
   "name": "python3"
  },
  "language_info": {
   "codemirror_mode": {
    "name": "ipython",
    "version": 3
   },
   "file_extension": ".py",
   "mimetype": "text/x-python",
   "name": "python",
   "nbconvert_exporter": "python",
   "pygments_lexer": "ipython3",
   "version": "3.8.3"
  }
 },
 "nbformat": 4,
 "nbformat_minor": 4
}
